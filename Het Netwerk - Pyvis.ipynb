{
 "cells": [
  {
   "cell_type": "markdown",
   "metadata": {},
   "source": [
    "# <font color='orange'>   **Het Netwerk** </font>\n",
    "\n",
    "\n",
    "### MIS NETWORK OPTIMIZATION of APC GRAPH\n",
    "***"
   ]
  },
  {
   "cell_type": "code",
   "execution_count": 1,
   "metadata": {},
   "outputs": [],
   "source": [
    "import streamlit as st \n",
    "import numpy as np\n",
    "import networkx as nx\n",
    "import matplotlib.pyplot as plt\n",
    "%matplotlib inline\n",
    "import psycopg2 \n",
    "import pandas as pd \n",
    "%config IPCompleter.greedy=True\n"
   ]
  },
  {
   "cell_type": "code",
   "execution_count": 2,
   "metadata": {},
   "outputs": [
    {
     "name": "stdout",
     "output_type": "stream",
     "text": [
      "{'user': 'postgres', 'dbname': 'TunnlDB', 'host': '34.77.230.6', 'port': '5432', 'tty': '', 'options': '', 'sslmode': 'prefer', 'sslcompression': '0', 'krbsrvname': 'postgres', 'target_session_attrs': 'any'} \n",
      "\n"
     ]
    }
   ],
   "source": [
    "conn_1 = psycopg2.connect(user = \"postgres\",\n",
    "                                  password = \"\",\n",
    "                                  host = \"34.77.230.6\",\n",
    "                                  port = \"5432\",\n",
    "                                  database = \"\")\n",
    "cursor_1 = conn_1.cursor()\n",
    "print (conn_1.get_dsn_parameters(),\"\\n\")"
   ]
  },
  {
   "cell_type": "code",
   "execution_count": 3,
   "metadata": {},
   "outputs": [
    {
     "data": {
      "text/html": [
       "<div>\n",
       "<style scoped>\n",
       "    .dataframe tbody tr th:only-of-type {\n",
       "        vertical-align: middle;\n",
       "    }\n",
       "\n",
       "    .dataframe tbody tr th {\n",
       "        vertical-align: top;\n",
       "    }\n",
       "\n",
       "    .dataframe thead th {\n",
       "        text-align: right;\n",
       "    }\n",
       "</style>\n",
       "<table border=\"1\" class=\"dataframe\">\n",
       "  <thead>\n",
       "    <tr style=\"text-align: right;\">\n",
       "      <th></th>\n",
       "      <th>AssTitle</th>\n",
       "      <th>PlaName</th>\n",
       "      <th>ParName</th>\n",
       "      <th>IngNet</th>\n",
       "      <th>IngDate</th>\n",
       "    </tr>\n",
       "  </thead>\n",
       "  <tbody>\n",
       "    <tr>\n",
       "      <th>0</th>\n",
       "      <td>Klondike</td>\n",
       "      <td>bildspielt.de</td>\n",
       "      <td>Axel Springer German</td>\n",
       "      <td>40.9700</td>\n",
       "      <td>2019-12-01 00:20:38</td>\n",
       "    </tr>\n",
       "    <tr>\n",
       "      <th>1</th>\n",
       "      <td>Family Barn</td>\n",
       "      <td>spielesite.com</td>\n",
       "      <td>Spielesite.com / de-info@spielesite.com</td>\n",
       "      <td>0.4605</td>\n",
       "      <td>2019-12-01 00:21:46</td>\n",
       "    </tr>\n",
       "    <tr>\n",
       "      <th>2</th>\n",
       "      <td>Royal Story</td>\n",
       "      <td>plinga.com</td>\n",
       "      <td>Plinga</td>\n",
       "      <td>3.7400</td>\n",
       "      <td>2019-12-01 00:25:53</td>\n",
       "    </tr>\n",
       "    <tr>\n",
       "      <th>3</th>\n",
       "      <td>Knights and Brides</td>\n",
       "      <td>minijuegos.com</td>\n",
       "      <td>Moonsite</td>\n",
       "      <td>2.0700</td>\n",
       "      <td>2019-12-01 01:14:00</td>\n",
       "    </tr>\n",
       "    <tr>\n",
       "      <th>4</th>\n",
       "      <td>Klondike</td>\n",
       "      <td>plinga.de</td>\n",
       "      <td>Blume62</td>\n",
       "      <td>41.4000</td>\n",
       "      <td>2019-12-01 01:27:12</td>\n",
       "    </tr>\n",
       "  </tbody>\n",
       "</table>\n",
       "</div>"
      ],
      "text/plain": [
       "             AssTitle         PlaName  \\\n",
       "0            Klondike   bildspielt.de   \n",
       "1         Family Barn  spielesite.com   \n",
       "2         Royal Story      plinga.com   \n",
       "3  Knights and Brides  minijuegos.com   \n",
       "4            Klondike       plinga.de   \n",
       "\n",
       "                                   ParName   IngNet             IngDate  \n",
       "0                     Axel Springer German  40.9700 2019-12-01 00:20:38  \n",
       "1  Spielesite.com / de-info@spielesite.com   0.4605 2019-12-01 00:21:46  \n",
       "2                                   Plinga   3.7400 2019-12-01 00:25:53  \n",
       "3                                 Moonsite   2.0700 2019-12-01 01:14:00  \n",
       "4                                  Blume62  41.4000 2019-12-01 01:27:12  "
      ]
     },
     "execution_count": 3,
     "metadata": {},
     "output_type": "execute_result"
    }
   ],
   "source": [
    "Ass_data = pd.read_sql_query(' SELECT \"AssTitle\", \"PlaName\" ,\"ParName\",\"IngNet \",\"IngDate\" FROM dbo.\"Part_InGameReport_1912\" join dbo.\"Partner\" on \"ParId\" = \"IngParId\"join dbo.\"Platform\" on \"PlaId\" = \"IngPlaId\" join dbo.\"Asset\" on \"AssId\" = \"IngAssId\" ' ,conn_1)\n",
    "\n",
    "Ass_data.head()"
   ]
  },
  {
   "cell_type": "code",
   "execution_count": 4,
   "metadata": {},
   "outputs": [],
   "source": [
    "from pyvis.network import Network\n",
    "import pyvis\n",
    "\n",
    "G = Network(height=\"750px\", width=\"100%\", bgcolor=\"#222222\", font_color=\"white\")\n"
   ]
  },
  {
   "cell_type": "code",
   "execution_count": 5,
   "metadata": {},
   "outputs": [],
   "source": [
    "assets = Ass_data[\"AssTitle\"]\n",
    "partners = Ass_data[\"ParName\"]\n",
    "net_revenue = Ass_data[\"IngNet\"]\n",
    "platforms  = Ass_data[\"PlaName\"]\n",
    "\n",
    "\n",
    "# G.add_nodes(assets, shape = \"box\") \n",
    "# G.add_nodes(partners)\n",
    "# G.add_nodes(platforms)\n",
    "# G.toggle_physics(True)\n",
    "# G.show(\"mygraph.html\")\n",
    "# G.show_buttons(filter_= True)"
   ]
  },
  {
   "cell_type": "code",
   "execution_count": 6,
   "metadata": {},
   "outputs": [],
   "source": [
    "edge_data = zip(assets,platforms,net_revenue)\n",
    "for i in edge_data:\n",
    "    ast = i[0]\n",
    "    plt = i[1]\n",
    "    w = i[2]\n",
    "\n",
    "    G.add_node(ast, ast, title=ast)\n",
    "    G.add_node(plt, plt, title=plt)\n",
    "    G.add_edge(ast, plt, value=w)"
   ]
  },
  {
   "cell_type": "code",
   "execution_count": 7,
   "metadata": {},
   "outputs": [],
   "source": [
    "G.toggle_physics(True)\n",
    "G.show(\"mygraph.html\")\n",
    "G.show_buttons(filter_= True)"
   ]
  }
 ],
 "metadata": {
  "kernelspec": {
   "display_name": "Python 3",
   "language": "python",
   "name": "python3"
  },
  "language_info": {
   "codemirror_mode": {
    "name": "ipython",
    "version": 3
   },
   "file_extension": ".py",
   "mimetype": "text/x-python",
   "name": "python",
   "nbconvert_exporter": "python",
   "pygments_lexer": "ipython3",
   "version": "3.7.1"
  }
 },
 "nbformat": 4,
 "nbformat_minor": 4
}
